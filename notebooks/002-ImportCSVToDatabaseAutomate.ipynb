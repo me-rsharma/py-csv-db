{
 "cells": [
  {
   "cell_type": "code",
   "execution_count": null,
   "id": "6d09710a",
   "metadata": {},
   "outputs": [],
   "source": []
  },
  {
   "cell_type": "code",
   "execution_count": 1,
   "id": "efd4e13e",
   "metadata": {},
   "outputs": [],
   "source": [
    "# Import CSV into pandas df\n",
    "# clean file name and remove all extra characters which can be compatible with table name\n",
    "# clean files headers which can be compatible with table columns name\n",
    "# create table\n",
    "# insert data into table"
   ]
  },
  {
   "cell_type": "code",
   "execution_count": 63,
   "id": "af4f9363",
   "metadata": {},
   "outputs": [],
   "source": [
    "import pandas as pd \n",
    "import psycopg2 as pg"
   ]
  },
  {
   "cell_type": "code",
   "execution_count": 64,
   "id": "7f9020e8",
   "metadata": {},
   "outputs": [
    {
     "name": "stdout",
     "output_type": "stream",
     "text": [
      "001-ImportCSVtoDfToDatabase.ipynb     002-ImportCSVToDatabaseAutomate.ipynb\r\n"
     ]
    }
   ],
   "source": [
    "# read data from csv ans store in pandas df\n",
    "!ls "
   ]
  },
  {
   "cell_type": "code",
   "execution_count": 65,
   "id": "86fb9ea0",
   "metadata": {},
   "outputs": [
    {
     "name": "stdout",
     "output_type": "stream",
     "text": [
      "\u001b[31mCustomer Contracts$.csv\u001b[m\u001b[m   \u001b[31mCustomer Engagements.csv\u001b[m\u001b[m  survey_results_public.csv\r\n",
      "\u001b[31mCustomer Demo.csv\u001b[m\u001b[m         \u001b[31mcsv_import_functions.py\u001b[m\u001b[m   survey_results_schema.csv\r\n"
     ]
    }
   ],
   "source": [
    "!ls ../data/"
   ]
  },
  {
   "cell_type": "code",
   "execution_count": 66,
   "id": "af1a7f4c",
   "metadata": {},
   "outputs": [],
   "source": [
    "customer_contract_df = pd.read_csv('../data/Customer Contracts$.csv')"
   ]
  },
  {
   "cell_type": "code",
   "execution_count": 67,
   "id": "809a379f",
   "metadata": {},
   "outputs": [
    {
     "data": {
      "text/html": [
       "<div>\n",
       "<style scoped>\n",
       "    .dataframe tbody tr th:only-of-type {\n",
       "        vertical-align: middle;\n",
       "    }\n",
       "\n",
       "    .dataframe tbody tr th {\n",
       "        vertical-align: top;\n",
       "    }\n",
       "\n",
       "    .dataframe thead th {\n",
       "        text-align: right;\n",
       "    }\n",
       "</style>\n",
       "<table border=\"1\" class=\"dataframe\">\n",
       "  <thead>\n",
       "    <tr style=\"text-align: right;\">\n",
       "      <th></th>\n",
       "      <th>customer_name</th>\n",
       "      <th>start_date</th>\n",
       "      <th>end_date</th>\n",
       "      <th>contract_amount_m</th>\n",
       "      <th>invoice_sent</th>\n",
       "      <th>paid</th>\n",
       "    </tr>\n",
       "  </thead>\n",
       "  <tbody>\n",
       "    <tr>\n",
       "      <th>0</th>\n",
       "      <td>Nike</td>\n",
       "      <td>01-02-2019</td>\n",
       "      <td>12-20-2020</td>\n",
       "      <td>2.98</td>\n",
       "      <td>Yes</td>\n",
       "      <td>Yes</td>\n",
       "    </tr>\n",
       "    <tr>\n",
       "      <th>1</th>\n",
       "      <td>Reebox</td>\n",
       "      <td>06-20-2017</td>\n",
       "      <td>NaN</td>\n",
       "      <td>3.90</td>\n",
       "      <td>No</td>\n",
       "      <td>No</td>\n",
       "    </tr>\n",
       "    <tr>\n",
       "      <th>2</th>\n",
       "      <td>Adidas</td>\n",
       "      <td>12-07-2015</td>\n",
       "      <td>6-20-2018</td>\n",
       "      <td>4.82</td>\n",
       "      <td>Yes</td>\n",
       "      <td>Yes</td>\n",
       "    </tr>\n",
       "    <tr>\n",
       "      <th>3</th>\n",
       "      <td>Google</td>\n",
       "      <td>05-25-2014</td>\n",
       "      <td>03-20-2017</td>\n",
       "      <td>5.74</td>\n",
       "      <td>Yes</td>\n",
       "      <td>No</td>\n",
       "    </tr>\n",
       "    <tr>\n",
       "      <th>4</th>\n",
       "      <td>Amazon</td>\n",
       "      <td>11-10-2012</td>\n",
       "      <td>12-20-2015</td>\n",
       "      <td>6.66</td>\n",
       "      <td>No</td>\n",
       "      <td>Yes</td>\n",
       "    </tr>\n",
       "  </tbody>\n",
       "</table>\n",
       "</div>"
      ],
      "text/plain": [
       "  customer_name  start_date    end_date  contract_amount_m invoice_sent paid\n",
       "0          Nike  01-02-2019  12-20-2020               2.98          Yes  Yes\n",
       "1        Reebox  06-20-2017         NaN               3.90           No   No\n",
       "2        Adidas  12-07-2015   6-20-2018               4.82          Yes  Yes\n",
       "3        Google  05-25-2014  03-20-2017               5.74          Yes   No\n",
       "4        Amazon  11-10-2012  12-20-2015               6.66           No  Yes"
      ]
     },
     "execution_count": 67,
     "metadata": {},
     "output_type": "execute_result"
    }
   ],
   "source": [
    "customer_contract_df.head()"
   ]
  },
  {
   "cell_type": "code",
   "execution_count": 68,
   "id": "594d1f3e",
   "metadata": {},
   "outputs": [
    {
     "data": {
      "text/plain": [
       "(10, 6)"
      ]
     },
     "execution_count": 68,
     "metadata": {},
     "output_type": "execute_result"
    }
   ],
   "source": [
    "# To get the counts of row and column in df/csv\n",
    "customer_contract_df.shape"
   ]
  },
  {
   "cell_type": "code",
   "execution_count": 69,
   "id": "675a9959",
   "metadata": {},
   "outputs": [],
   "source": [
    "# Since we have file name with space and $ or there may be possibility we have unwanted characters\n",
    "# So lets remove unwanted spaces\n",
    "# remove unwanted characters\n",
    "# make lowercase\n",
    "# replace space with underscore\n",
    "file = 'Customer Contracts$'\n",
    "parsed_file = file.lower().replace(' ', '_').replace('?', '').replace('$','').replace('-','_') \\\n",
    "                .replace('\\\\', '_').replace(r'/','_').replace(r',','_')"
   ]
  },
  {
   "cell_type": "code",
   "execution_count": 70,
   "id": "e89d17e2",
   "metadata": {},
   "outputs": [
    {
     "data": {
      "text/plain": [
       "'customer_contracts'"
      ]
     },
     "execution_count": 70,
     "metadata": {},
     "output_type": "execute_result"
    }
   ],
   "source": [
    "parsed_file"
   ]
  },
  {
   "cell_type": "code",
   "execution_count": 71,
   "id": "f57f97ca",
   "metadata": {},
   "outputs": [
    {
     "data": {
      "text/plain": [
       "Index(['customer_name', 'start_date', 'end_date', 'contract_amount_m',\n",
       "       'invoice_sent', 'paid'],\n",
       "      dtype='object')"
      ]
     },
     "execution_count": 71,
     "metadata": {},
     "output_type": "execute_result"
    }
   ],
   "source": [
    "# lets rename all the column names of df\n",
    "customer_contract_df.columns"
   ]
  },
  {
   "cell_type": "code",
   "execution_count": 72,
   "id": "20ef546a",
   "metadata": {},
   "outputs": [],
   "source": [
    "customer_contract_df.columns = [x.lower().replace(' ', '_').replace('?', '').replace('$','').replace('-','_') \\\n",
    "                .replace('\\\\', '_').replace(r'/','_').replace(r',','_') for x in customer_contract_df.columns]"
   ]
  },
  {
   "cell_type": "code",
   "execution_count": 73,
   "id": "9da34cd0",
   "metadata": {},
   "outputs": [
    {
     "data": {
      "text/plain": [
       "Index(['customer_name', 'start_date', 'end_date', 'contract_amount_m',\n",
       "       'invoice_sent', 'paid'],\n",
       "      dtype='object')"
      ]
     },
     "execution_count": 73,
     "metadata": {},
     "output_type": "execute_result"
    }
   ],
   "source": [
    "customer_contract_df.columns"
   ]
  },
  {
   "cell_type": "code",
   "execution_count": 74,
   "id": "2446a3f0",
   "metadata": {},
   "outputs": [
    {
     "data": {
      "text/plain": [
       "customer_name         object\n",
       "start_date            object\n",
       "end_date              object\n",
       "contract_amount_m    float64\n",
       "invoice_sent          object\n",
       "paid                  object\n",
       "dtype: object"
      ]
     },
     "execution_count": 74,
     "metadata": {},
     "output_type": "execute_result"
    }
   ],
   "source": [
    "customer_contract_df.dtypes"
   ]
  },
  {
   "cell_type": "code",
   "execution_count": 75,
   "id": "4d8b6bb7",
   "metadata": {},
   "outputs": [],
   "source": [
    "replacements = {\n",
    "    'object': 'VARCHAR',\n",
    "    'float64': 'FLOAT',\n",
    "    'int64': 'INTEGER',\n",
    "    'datetime64': 'TIMESTAMP',\n",
    "    'timedelta64[ns]': 'VARCHAR'\n",
    "}"
   ]
  },
  {
   "cell_type": "code",
   "execution_count": 76,
   "id": "66d895a1",
   "metadata": {},
   "outputs": [],
   "source": [
    "# CREATE TABLE customer_contract (\n",
    "#     customer_name VARCHAR(255),\n",
    "#     start_date VARCHAR,\n",
    "#     end_date VARCHAR,\n",
    "#     contract_amount_m FLOAT,\n",
    "#     invoice_sent VARCHAR,\n",
    "#     paid VARCHAR\n",
    "# )"
   ]
  },
  {
   "cell_type": "code",
   "execution_count": 77,
   "id": "f1892ad8",
   "metadata": {},
   "outputs": [],
   "source": [
    "# Lets automate create table statement\n",
    "col_str = ', '.join('{} {}'.format(col_name, data_type) for (col_name, data_type) in zip(customer_contract_df.columns, customer_contract_df.dtypes.replace(replacements)))"
   ]
  },
  {
   "cell_type": "code",
   "execution_count": 78,
   "id": "fbf0ec71",
   "metadata": {},
   "outputs": [
    {
     "data": {
      "text/plain": [
       "'customer_name VARCHAR, start_date VARCHAR, end_date VARCHAR, contract_amount_m FLOAT, invoice_sent VARCHAR, paid VARCHAR'"
      ]
     },
     "execution_count": 78,
     "metadata": {},
     "output_type": "execute_result"
    }
   ],
   "source": [
    "col_str"
   ]
  },
  {
   "cell_type": "code",
   "execution_count": 79,
   "id": "83c0561d",
   "metadata": {},
   "outputs": [],
   "source": [
    "def connect_to_db():\n",
    "    try:\n",
    "        conn = pg.connect(host=hostname, port=port, user=username, password=password)\n",
    "    except ConnectionError as e:\n",
    "        raise e\n",
    "    else:\n",
    "        print('Connected successfully....')\n",
    "    return conn"
   ]
  },
  {
   "cell_type": "code",
   "execution_count": 80,
   "id": "86f3d718",
   "metadata": {},
   "outputs": [],
   "source": [
    "# Lets connect to database\n",
    "hostname='localhost'\n",
    "port='5433'\n",
    "username='customeruser'\n",
    "password='superuser'\n",
    "database='customer'\n",
    "conn=None"
   ]
  },
  {
   "cell_type": "code",
   "execution_count": 81,
   "id": "6018b528",
   "metadata": {},
   "outputs": [
    {
     "name": "stdout",
     "output_type": "stream",
     "text": [
      "Connected successfully....\n"
     ]
    }
   ],
   "source": [
    "conn = connect_to_db()\n",
    "curr = conn.cursor()"
   ]
  },
  {
   "cell_type": "code",
   "execution_count": 82,
   "id": "0b91a7e3",
   "metadata": {},
   "outputs": [],
   "source": [
    "# DROP table if there are any existing table --- BE CAREFUL, may be its not needed in your case\n",
    "def drop_table(curr, table_name):\n",
    "    query = \"\"\"DROP TABLE IF EXISTS {};\"\"\"\n",
    "    curr.execute(query.format(table_name))"
   ]
  },
  {
   "cell_type": "code",
   "execution_count": 83,
   "id": "d8977618",
   "metadata": {},
   "outputs": [],
   "source": [
    "# curr.execute('ROLLBACK')\n",
    "drop_table(curr, parsed_file)"
   ]
  },
  {
   "cell_type": "code",
   "execution_count": 84,
   "id": "8e8a85b6",
   "metadata": {},
   "outputs": [],
   "source": [
    "def create_table(curr, table_name, cols):\n",
    "    query = \"\"\"CREATE TABLE IF NOT EXISTS {} ( {} );\"\"\"\n",
    "    curr.execute(query.format(table_name, cols))\n",
    "    "
   ]
  },
  {
   "cell_type": "code",
   "execution_count": 85,
   "id": "a381e20b",
   "metadata": {},
   "outputs": [],
   "source": [
    "create_table(curr, parsed_file, col_str)\n",
    "conn.commit()"
   ]
  },
  {
   "cell_type": "code",
   "execution_count": 87,
   "id": "4b44329d",
   "metadata": {},
   "outputs": [
    {
     "name": "stdout",
     "output_type": "stream",
     "text": [
      "Saved df data to csv ....\n",
      "Opened file in memory...\n"
     ]
    }
   ],
   "source": [
    "# Save df data to csv file\n",
    "customer_contract_df.to_csv('./customer_contracts.csv', header=customer_contract_df.columns, index=False, encoding='UTF-8')\n",
    "print('Saved df data to csv ....')\n",
    "#Open csv file , save it as an object and upload to db\n",
    "my_file = open('./customer_contracts.csv')\n",
    "print('Opened file in memory...')"
   ]
  },
  {
   "cell_type": "code",
   "execution_count": 88,
   "id": "4a0bb664",
   "metadata": {},
   "outputs": [],
   "source": [
    "# NOW IMPORT CSV DATA TO DATABASE\n",
    "# Upload csv to db\n",
    "SQL_STATEMENT = \"\"\"\n",
    "COPY customer_contracts FROM STDIN WITH CSV HEADER DELIMITER AS ','\n",
    "\"\"\"\n"
   ]
  },
  {
   "cell_type": "code",
   "execution_count": 91,
   "id": "9bbd4f29",
   "metadata": {},
   "outputs": [],
   "source": [
    "curr.copy_expert(sql=SQL_STATEMENT, file=my_file)\n",
    "conn.commit()"
   ]
  },
  {
   "cell_type": "code",
   "execution_count": 92,
   "id": "3d550bba",
   "metadata": {},
   "outputs": [
    {
     "name": "stdout",
     "output_type": "stream",
     "text": [
      "Table get populated with csv file data completed..\n"
     ]
    }
   ],
   "source": [
    "curr.close()\n",
    "print('Table get populated with csv file data completed..')"
   ]
  },
  {
   "cell_type": "code",
   "execution_count": null,
   "id": "67f18b94",
   "metadata": {},
   "outputs": [],
   "source": []
  }
 ],
 "metadata": {
  "kernelspec": {
   "display_name": "Python 3 (ipykernel)",
   "language": "python",
   "name": "python3"
  },
  "language_info": {
   "codemirror_mode": {
    "name": "ipython",
    "version": 3
   },
   "file_extension": ".py",
   "mimetype": "text/x-python",
   "name": "python",
   "nbconvert_exporter": "python",
   "pygments_lexer": "ipython3",
   "version": "3.8.1"
  },
  "latex_envs": {
   "LaTeX_envs_menu_present": true,
   "autoclose": false,
   "autocomplete": true,
   "bibliofile": "biblio.bib",
   "cite_by": "apalike",
   "current_citInitial": 1,
   "eqLabelWithNumbers": true,
   "eqNumInitial": 1,
   "hotkeys": {
    "equation": "Ctrl-E",
    "itemize": "Ctrl-I"
   },
   "labels_anchors": false,
   "latex_user_defs": false,
   "report_style_numbering": false,
   "user_envs_cfg": false
  },
  "toc": {
   "base_numbering": 1,
   "nav_menu": {},
   "number_sections": true,
   "sideBar": true,
   "skip_h1_title": false,
   "title_cell": "Table of Contents",
   "title_sidebar": "Contents",
   "toc_cell": false,
   "toc_position": {},
   "toc_section_display": true,
   "toc_window_display": false
  }
 },
 "nbformat": 4,
 "nbformat_minor": 5
}
